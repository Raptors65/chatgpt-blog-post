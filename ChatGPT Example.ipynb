{
 "cells": [
  {
   "cell_type": "code",
   "execution_count": null,
   "id": "ca5f48f2",
   "metadata": {},
   "outputs": [],
   "source": [
    "# !pip install openai"
   ]
  },
  {
   "cell_type": "code",
   "execution_count": null,
   "id": "5fe07970",
   "metadata": {},
   "outputs": [],
   "source": [
    "# !pip install python-dotenv"
   ]
  },
  {
   "cell_type": "code",
   "execution_count": 1,
   "id": "eb6ab6ee",
   "metadata": {},
   "outputs": [],
   "source": [
    "import openai"
   ]
  },
  {
   "cell_type": "code",
   "execution_count": 2,
   "id": "b4116ebd",
   "metadata": {},
   "outputs": [],
   "source": [
    "import os"
   ]
  },
  {
   "cell_type": "code",
   "execution_count": 3,
   "id": "14cf5a25",
   "metadata": {},
   "outputs": [
    {
     "data": {
      "text/plain": [
       "True"
      ]
     },
     "execution_count": 3,
     "metadata": {},
     "output_type": "execute_result"
    }
   ],
   "source": [
    "from dotenv import load_dotenv\n",
    "load_dotenv()"
   ]
  },
  {
   "cell_type": "code",
   "execution_count": 4,
   "id": "16518f2d",
   "metadata": {},
   "outputs": [],
   "source": [
    "openai.api_key = os.getenv(\"OPENAI_API_KEY\")"
   ]
  },
  {
   "cell_type": "code",
   "execution_count": 5,
   "id": "1f166b8f",
   "metadata": {},
   "outputs": [],
   "source": [
    "response = openai.ChatCompletion.create(\n",
    "    model=\"gpt-3.5-turbo\",\n",
    "    messages=[\n",
    "        {\"role\": \"system\", \"content\": \"You are a basketball coach.\"},\n",
    "        {\"role\": \"user\", \"content\": \"How can I improve my dribbling skills?\"}\n",
    "    ]\n",
    ")"
   ]
  },
  {
   "cell_type": "code",
   "execution_count": 7,
   "id": "b089d61f",
   "metadata": {},
   "outputs": [
    {
     "name": "stdout",
     "output_type": "stream",
     "text": [
      "\n",
      "\n",
      "There are several ways you can improve your dribbling skills as a basketball player:\n",
      "\n",
      "1. Practice regularly: Dribble the basketball every day for at least 10-15 minutes to develop muscle memory and improve your skills.\n",
      "\n",
      "2. Start simple: Begin with basic dribbling drills, such as dribbling around cones or practicing figure-eight moves, before progressing to more complicated drills.\n",
      "\n",
      "3. Use both hands: Practice dribbling with both your dominant and non-dominant hand to develop versatility and improve ball control.\n",
      "\n",
      "4. Focus on form: Keep your eyes up and maintain a low center of gravity. Use your fingertips, not your palms, to control the ball and maintain a strong stance.\n",
      "\n",
      "5. Incorporate game situations: Practice dribbling in game situations, such as dribbling past defenders or dribbling under pressure, to simulate what you might experience in a game.\n",
      "\n",
      "6. Watch and learn: Study professional basketball players and their dribble techniques to pick up tips and ideas for improving your game.\n"
     ]
    }
   ],
   "source": [
    "print(response[\"choices\"][0][\"message\"][\"content\"])"
   ]
  },
  {
   "cell_type": "code",
   "execution_count": 11,
   "id": "0b97a87c",
   "metadata": {},
   "outputs": [],
   "source": [
    "response2 = openai.ChatCompletion.create(\n",
    "  model=\"gpt-3.5-turbo\",\n",
    "    messages=[\n",
    "      {\"role\": \"system\", \"content\": \"You are a basketball coach.\"},\n",
    "      {\"role\": \"user\", \"content\": \"How can I improve my dribbling skills?\"},\n",
    "      {\"role\": \"assistant\", \"content\": response[\"choices\"][0][\"message\"][\"content\"]},\n",
    "      {\"role\": \"user\", \"content\": \"Which specific basketball players would you suggest to study?\"}\n",
    "    ]\n",
    ")"
   ]
  },
  {
   "cell_type": "code",
   "execution_count": 12,
   "id": "02dd2d84",
   "metadata": {},
   "outputs": [
    {
     "name": "stdout",
     "output_type": "stream",
     "text": [
      "There are many great basketball players you can study to improve your dribbling skills. Here are a few suggestions:\n",
      "\n",
      "1. Kyrie Irving: Kyrie is known for his exceptional ball-handling skills and creative dribble moves. He is a master at using hesitation and change of pace to keep defenders off balance.\n",
      "\n",
      "2. Allen Iverson: A.I. was a pioneer of the modern crossover and is considered one of the greatest ball handlers of all time. He was a master at using his quickness and agility to create space and get to the basket.\n",
      "\n",
      "3. Steph Curry: Steph is known for his shooting, but he also has great dribbling skills. He has a quick, smooth handle and is able to create his own shot off the dribble.\n",
      "\n",
      "4. Chris Paul: Chris is a point guard with excellent ball-handling skills and a great sense of timing. He is able to break down defenses with his dribble, and is a master at creating opportunities for his teammates.\n",
      "\n",
      "5. Damian Lillard: Lillard is a guard who is equally adept at shooting and ball handling. He has a tight, low dribble and is able to use his strength and speed to get past defenders.\n",
      "\n",
      "Studying these players can give you a better understanding of how to improve your own dribbling skills and become a better basketball player.\n"
     ]
    }
   ],
   "source": [
    "print(response2[\"choices\"][0][\"message\"][\"content\"])"
   ]
  },
  {
   "cell_type": "code",
   "execution_count": null,
   "id": "d82fa2c2",
   "metadata": {},
   "outputs": [],
   "source": []
  }
 ],
 "metadata": {
  "kernelspec": {
   "display_name": "Python 3 (ipykernel)",
   "language": "python",
   "name": "python3"
  },
  "language_info": {
   "codemirror_mode": {
    "name": "ipython",
    "version": 3
   },
   "file_extension": ".py",
   "mimetype": "text/x-python",
   "name": "python",
   "nbconvert_exporter": "python",
   "pygments_lexer": "ipython3",
   "version": "3.9.13"
  }
 },
 "nbformat": 4,
 "nbformat_minor": 5
}
